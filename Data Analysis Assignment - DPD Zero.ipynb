{
 "cells": [
  {
   "cell_type": "markdown",
   "id": "8a9b1c4d",
   "metadata": {},
   "source": [
    "# Data Analysis Assignment - DPD Zero"
   ]
  },
  {
   "cell_type": "markdown",
   "id": "0fc7576a",
   "metadata": {},
   "source": [
    "### Steps:\n",
    "1. Prepare\n",
    "2. Process\n",
    "3. Analyze\n",
    "\n",
    "### Tasks:\n",
    "1. Calculate risk labels for all the borrowers\n",
    "2. Label all customers based on their tenure\n",
    "3. Segment borrowers into 3 cohorts based on ticket size\n",
    "4. Analyse spend recommendation to reduce overall bounce"
   ]
  },
  {
   "cell_type": "markdown",
   "id": "4a1e00cc",
   "metadata": {},
   "source": [
    "---"
   ]
  },
  {
   "cell_type": "code",
   "execution_count": 1,
   "id": "4da396ac",
   "metadata": {},
   "outputs": [
    {
     "name": "stdout",
     "output_type": "stream",
     "text": [
      "   Amount Pending      State  Tenure  Interest Rate       City Bounce String  \\\n",
      "0             963  Karnataka      11           7.69  Bangalore           SSS   \n",
      "1            1194  Karnataka      11           6.16  Bangalore           SSB   \n",
      "2            1807  Karnataka      14           4.24     Hassan           BBS   \n",
      "3            2451  Karnataka      10           4.70  Bangalore           SSS   \n",
      "4            2611  Karnataka      10           4.41     Mysore           SSB   \n",
      "\n",
      "   Disbursed Amount Loan Number  \n",
      "0             10197       JZ6FS  \n",
      "1             12738       RDIOY  \n",
      "2             24640       WNW4L  \n",
      "3             23990       6LBJS  \n",
      "4             25590       ZFZUA  \n"
     ]
    },
    {
     "data": {
      "text/plain": [
       "(24582, 8)"
      ]
     },
     "execution_count": 1,
     "metadata": {},
     "output_type": "execute_result"
    }
   ],
   "source": [
    "#Importing libraries\n",
    "import pandas as pd\n",
    "import matplotlib.pyplot as plt\n",
    "\n",
    "# Read the csv dataset\n",
    "df = pd.read_csv('./Data_Analyst_Assignment_Dataset.csv')\n",
    "\n",
    "print(df.head())\n",
    "df.shape"
   ]
  },
  {
   "cell_type": "code",
   "execution_count": 2,
   "id": "443e7955",
   "metadata": {},
   "outputs": [],
   "source": [
    "#Clean the dataset: Checking for NA and duplicate values\n",
    "df = df.dropna()\n",
    "df = df.drop_duplicates()"
   ]
  },
  {
   "cell_type": "code",
   "execution_count": 3,
   "id": "c3e4a07b",
   "metadata": {},
   "outputs": [
    {
     "data": {
      "text/plain": [
       "(24582, 8)"
      ]
     },
     "execution_count": 3,
     "metadata": {},
     "output_type": "execute_result"
    }
   ],
   "source": [
    "df.shape"
   ]
  },
  {
   "cell_type": "markdown",
   "id": "c728bff8",
   "metadata": {},
   "source": [
    "**This means there are no NA or duplicated values**"
   ]
  },
  {
   "cell_type": "markdown",
   "id": "8d24b99b",
   "metadata": {},
   "source": [
    "---"
   ]
  },
  {
   "cell_type": "markdown",
   "id": "ef190d83",
   "metadata": {},
   "source": [
    "### Task 1: Calculate risk labels for all the borrowers\n",
    "\n",
    "**Unknown Risk** - New customers\n",
    "\n",
    "**Low Risk** - Customers who have not bounced in the last 6 months\n",
    "\n",
    "**Medium Risk** - These are customers who have bounced at less than twice in the last 6 months - The bounce should not have occurred in the last month\n",
    "\n",
    "**High risk** - Every other customer"
   ]
  },
  {
   "cell_type": "markdown",
   "id": "a2e69ee0",
   "metadata": {},
   "source": [
    "### Solution: Analyzing the bounce string for all the customers\n",
    "\n",
    "1. **Unknown Risk** - FEMI\n",
    "2. **Low Risk** - 0 Bounce in the last 6 months\n",
    "3. **Medium Risk** - 1 Bounce in the last 6 months with no bounce in the last month. (Here, I am not including 0 bounce since that is already covered in low risk and we are calculating the string for 6 months only)\n",
    "4. **High Risk** - Rest all conditions"
   ]
  },
  {
   "cell_type": "code",
   "execution_count": 4,
   "id": "e052a6f7",
   "metadata": {},
   "outputs": [],
   "source": [
    "def calculate_risk_label(row):\n",
    "    bounce_string = row['Bounce String']\n",
    "    last_6_months = bounce_string[-6:]\n",
    "    no_of_bounce = last_6_months.count('B') + last_6_months.count('L')\n",
    "    \n",
    "    if bounce_string == 'FEMI':\n",
    "        return 'Unknown Risk'\n",
    "    elif no_of_bounce == 0:\n",
    "        return 'Low Risk'\n",
    "    elif no_of_bounce == 1 and last_6_months[-1] not in ['B', 'L']:\n",
    "        return 'Medium Risk'\n",
    "    else:\n",
    "        return 'High Risk'\n",
    "    \n",
    "df['Risk Label'] = df.apply(calculate_risk_label, axis=1)"
   ]
  },
  {
   "cell_type": "code",
   "execution_count": 5,
   "id": "77621f86",
   "metadata": {},
   "outputs": [
    {
     "name": "stdout",
     "output_type": "stream",
     "text": [
      "   Amount Pending      State  Tenure  Interest Rate       City Bounce String  \\\n",
      "0             963  Karnataka      11           7.69  Bangalore           SSS   \n",
      "1            1194  Karnataka      11           6.16  Bangalore           SSB   \n",
      "2            1807  Karnataka      14           4.24     Hassan           BBS   \n",
      "3            2451  Karnataka      10           4.70  Bangalore           SSS   \n",
      "4            2611  Karnataka      10           4.41     Mysore           SSB   \n",
      "\n",
      "   Disbursed Amount Loan Number Risk Label  \n",
      "0             10197       JZ6FS   Low Risk  \n",
      "1             12738       RDIOY  High Risk  \n",
      "2             24640       WNW4L  High Risk  \n",
      "3             23990       6LBJS   Low Risk  \n",
      "4             25590       ZFZUA  High Risk  \n"
     ]
    }
   ],
   "source": [
    "print(df.head())"
   ]
  },
  {
   "cell_type": "code",
   "execution_count": 6,
   "id": "9c46488f",
   "metadata": {},
   "outputs": [
    {
     "name": "stdout",
     "output_type": "stream",
     "text": [
      "Unknown Risk     3222\n",
      "Low Risk        13492\n",
      "Medium Risk      2955\n",
      "High Risk        4913\n",
      "Name: Risk Label, dtype: int64\n"
     ]
    }
   ],
   "source": [
    "# Get the count for each type of risk\n",
    "risk_count = df['Risk Label'].value_counts()\n",
    "labels_ordered = ['Unknown Risk', 'Low Risk', 'Medium Risk', 'High Risk']\n",
    "risk_count = risk_count.reindex(labels_ordered)\n",
    "\n",
    "print(risk_count)"
   ]
  },
  {
   "cell_type": "code",
   "execution_count": 7,
   "id": "34275590",
   "metadata": {},
   "outputs": [
    {
     "data": {
      "image/png": "[encoded data removed]",
      "text/plain": [
       "<Figure size 576x360 with 1 Axes>"
      ]
     },
     "metadata": {
      "needs_background": "light"
     },
     "output_type": "display_data"
    }
   ],
   "source": [
    "# Visualizing Count v/s Risk Label\n",
    "plt.figure(figsize=(8, 5))\n",
    "colors = ['#DFF5FF', '#67C6E3', '#378CE7', '#00224D']\n",
    "bars = []\n",
    "\n",
    "for i, label in enumerate(labels_ordered):\n",
    "    bar = plt.bar(label, risk_count[label], color=colors[i])\n",
    "    bars.append(bar)\n",
    "    \n",
    "legend_labels = [f'{label}: {risk_count[label]}' for label in labels_ordered]\n",
    "\n",
    "plt.title('RISK LABEL COUNT')\n",
    "plt.xlabel('RISK LABEL')\n",
    "plt.ylabel('COUNT')\n",
    "plt.xticks(rotation=45)\n",
    "plt.legend(bars, legend_labels)\n",
    "plt.tight_layout()\n",
    "plt.show()"
   ]
  },
  {
   "cell_type": "markdown",
   "id": "6874d543",
   "metadata": {},
   "source": [
    "---"
   ]
  },
  {
   "cell_type": "markdown",
   "id": "ad68b52b",
   "metadata": {},
   "source": [
    "### Task 2: Label all customers based on their tenure\n",
    "\n",
    "**Early Tenure** - Customers who are in the book for 3 months\n",
    "\n",
    "**Late Tenure** - Customers who are 3 months away from closing the loan\n",
    "\n",
    "**Mid Tenure** - Everyone else"
   ]
  },
  {
   "cell_type": "markdown",
   "id": "f3d56c58",
   "metadata": {},
   "source": [
    "### Solution: Analyzing the bounce string and tenure period for all the customers\n",
    "\n",
    "Length of string denotes the total number of payments made by the customer. So SSSB (acc. to the document) implies the customer has made 4 payments and has been in the book for 5 months (since the first month is FEMI). Therefore, the **total number of months a customer has been in the book = Length of string + 1**.\n",
    "\n",
    "1. **Early Tenure** - Bounce String = FEMI **and** Length of Bounce String <= 2\n",
    "2. **Late Tenure** - Length of (Tenure - (Bounce String+1)) <= 3\n",
    "3. **Mid Tenure** - Every other customer"
   ]
  },
  {
   "cell_type": "code",
   "execution_count": 8,
   "id": "880e4481",
   "metadata": {},
   "outputs": [],
   "source": [
    "def label_tenure(row):\n",
    "    bounce_string = row['Bounce String']\n",
    "    tenure = row['Tenure']\n",
    "    \n",
    "    # Adjusting bounce length to not count 'FEMI' and to be 0 if 'FEMI'\n",
    "    if bounce_string == 'FEMI':\n",
    "        bounce_length = 0\n",
    "    else:\n",
    "        bounce_length = len(bounce_string.replace('FEMI', ''))\n",
    "    \n",
    "    if bounce_string == 'FEMI' or bounce_length <= 2:\n",
    "        return 'Early Tenure'\n",
    "    elif tenure - (bounce_length + 1) <= 3:\n",
    "        return 'Late Tenure'\n",
    "    else:\n",
    "        return 'Mid Tenure'\n",
    "\n",
    "df['Tenure Label'] = df.apply(label_tenure, axis=1)"
   ]
  },
  {
   "cell_type": "code",
   "execution_count": 9,
   "id": "4b113c22",
   "metadata": {},
   "outputs": [
    {
     "name": "stdout",
     "output_type": "stream",
     "text": [
      "   Amount Pending      State  Tenure  Interest Rate       City Bounce String  \\\n",
      "0             963  Karnataka      11           7.69  Bangalore           SSS   \n",
      "1            1194  Karnataka      11           6.16  Bangalore           SSB   \n",
      "2            1807  Karnataka      14           4.24     Hassan           BBS   \n",
      "3            2451  Karnataka      10           4.70  Bangalore           SSS   \n",
      "4            2611  Karnataka      10           4.41     Mysore           SSB   \n",
      "\n",
      "   Disbursed Amount Loan Number Risk Label Tenure Label  \n",
      "0             10197       JZ6FS   Low Risk   Mid Tenure  \n",
      "1             12738       RDIOY  High Risk   Mid Tenure  \n",
      "2             24640       WNW4L  High Risk   Mid Tenure  \n",
      "3             23990       6LBJS   Low Risk   Mid Tenure  \n",
      "4             25590       ZFZUA  High Risk   Mid Tenure  \n"
     ]
    }
   ],
   "source": [
    "print(df.head())"
   ]
  },
  {
   "cell_type": "code",
   "execution_count": 10,
   "id": "4f868745",
   "metadata": {},
   "outputs": [
    {
     "name": "stdout",
     "output_type": "stream",
     "text": [
      "Early Tenure    12240\n",
      "Mid Tenure       5324\n",
      "Late Tenure      7018\n",
      "Name: Tenure Label, dtype: int64\n"
     ]
    }
   ],
   "source": [
    "# Get the count for each type of tenure\n",
    "tenure_state = df['Tenure Label'].value_counts()\n",
    "labels_ordered = ['Early Tenure', 'Mid Tenure', 'Late Tenure']\n",
    "tenure_state = tenure_state.reindex(labels_ordered)\n",
    "\n",
    "print(tenure_state)"
   ]
  },
  {
   "cell_type": "code",
   "execution_count": 11,
   "id": "9f2ce643",
   "metadata": {},
   "outputs": [
    {
     "data": {
      "image/png": "[encoded data removed]",
      "text/plain": [
       "<Figure size 576x360 with 1 Axes>"
      ]
     },
     "metadata": {
      "needs_background": "light"
     },
     "output_type": "display_data"
    }
   ],
   "source": [
    "# Visualizing Count v/s Tenure State\n",
    "plt.figure(figsize=(8, 5))\n",
    "colors = ['#FF6D60', '#FBF0B2', '#A1EEBD']\n",
    "bars = []\n",
    "\n",
    "for i, label in enumerate(labels_ordered):\n",
    "    bar = plt.bar(label, tenure_state[label], color=colors[i])\n",
    "    bars.append(bar)\n",
    "    \n",
    "legend_labels = [f'{label}: {tenure_state[label]}' for label in labels_ordered]\n",
    "\n",
    "plt.title('TENURE STATE COUNT')\n",
    "plt.xlabel('TENURE STATE')\n",
    "plt.ylabel('COUNT')\n",
    "plt.xticks(rotation=45)\n",
    "plt.legend(bars, legend_labels)\n",
    "plt.tight_layout()\n",
    "plt.show()"
   ]
  },
  {
   "cell_type": "markdown",
   "id": "9b63d31a",
   "metadata": {},
   "source": [
    "---"
   ]
  },
  {
   "cell_type": "markdown",
   "id": "3bcf6b38",
   "metadata": {},
   "source": [
    "### Task 3: Segment borrowers into 3 cohorts based on ticket size\n",
    "\n",
    "**Low ticket size**\n",
    "\n",
    "**Medium ticket size**\n",
    "\n",
    "**High ticket size**\n",
    "\n",
    "Sum of amount pending in each cohort should be approximately equal. "
   ]
  },
  {
   "cell_type": "markdown",
   "id": "e70fa118",
   "metadata": {},
   "source": [
    "### Solution: Analyzing the amount pending for all the customers\n",
    "\n",
    "For this problem, I will first sort the amount pending for each customer in ascending order. This is required for categorization. Then I will find out the sum and divide it roughly in 3 equal parts. The first part will then be for low ticket size, second for medium and third will be for high ticket size. Then I will get the count and order the data frame based on the ticket sizes."
   ]
  },
  {
   "cell_type": "code",
   "execution_count": 12,
   "id": "f40393bd",
   "metadata": {},
   "outputs": [
    {
     "name": "stdout",
     "output_type": "stream",
     "text": [
      "      Amount Pending        State  Tenure  Interest Rate          City  \\\n",
      "1534             423  Maharashtra      11          11.84        Sangli   \n",
      "1982             444   Tamil Nadu      11          12.23  VIRUDHUNAGAR   \n",
      "889              451  Maharashtra       7          37.92          Pune   \n",
      "265              522    Karnataka      11          12.83      Bagalkot   \n",
      "1486             522  Maharashtra      11          12.83          Pune   \n",
      "\n",
      "     Bounce String  Disbursed Amount Loan Number    Risk Label  Tenure Label  \n",
      "1534          FEMI              4389       HEMS0  Unknown Risk  Early Tenure  \n",
      "1982          FEMI              4598       1BYJD  Unknown Risk  Early Tenure  \n",
      "889         LSSSSB              2793       7COLC     High Risk   Late Tenure  \n",
      "265           FEMI              5390       587TX  Unknown Risk  Early Tenure  \n",
      "1486             S              5390       5QJN0      Low Risk  Early Tenure  \n"
     ]
    }
   ],
   "source": [
    "df_sorted = df.sort_values(by='Amount Pending')\n",
    "print(df_sorted.head())"
   ]
  },
  {
   "cell_type": "code",
   "execution_count": 13,
   "id": "c50bc994",
   "metadata": {},
   "outputs": [
    {
     "name": "stdout",
     "output_type": "stream",
     "text": [
      "Sum_Low: 14676828\n",
      "Sum_Medium: 14676862\n",
      "Sum_High: 14676917\n",
      "\n",
      "      Amount Pending        State  Tenure  Interest Rate          City  \\\n",
      "1534             423  Maharashtra      11          11.84        Sangli   \n",
      "1982             444   Tamil Nadu      11          12.23  VIRUDHUNAGAR   \n",
      "889              451  Maharashtra       7          37.92          Pune   \n",
      "265              522    Karnataka      11          12.83      Bagalkot   \n",
      "1486             522  Maharashtra      11          12.83          Pune   \n",
      "\n",
      "     Bounce String  Disbursed Amount Loan Number    Risk Label  Tenure Label  \\\n",
      "1534          FEMI              4389       HEMS0  Unknown Risk  Early Tenure   \n",
      "1982          FEMI              4598       1BYJD  Unknown Risk  Early Tenure   \n",
      "889         LSSSSB              2793       7COLC     High Risk   Late Tenure   \n",
      "265           FEMI              5390       587TX  Unknown Risk  Early Tenure   \n",
      "1486             S              5390       5QJN0      Low Risk  Early Tenure   \n",
      "\n",
      "          Ticket Size  \n",
      "1534  Low Ticket Size  \n",
      "1982  Low Ticket Size  \n",
      "889   Low Ticket Size  \n",
      "265   Low Ticket Size  \n",
      "1486  Low Ticket Size  \n"
     ]
    }
   ],
   "source": [
    "total_amount_pending = df_sorted['Amount Pending'].sum()\n",
    "distribute_low = total_amount_pending/3\n",
    "distribute_medium = 2 * total_amount_pending/3\n",
    "\n",
    "sum_current = 0\n",
    "low_idx, medium_idx, high_idx = [], [], []\n",
    "\n",
    "for idx, row in df_sorted.iterrows():\n",
    "    sum_current += row['Amount Pending']\n",
    "    if sum_current <= distribute_low:\n",
    "        low_idx.append(idx)\n",
    "    elif sum_current <= distribute_medium:\n",
    "        medium_idx.append(idx)\n",
    "    else:\n",
    "        high_idx.append(idx)\n",
    "\n",
    "df_sorted.loc[low_idx, 'Ticket Size'] = 'Low Ticket Size'\n",
    "df_sorted.loc[medium_idx, 'Ticket Size'] = 'Medium Ticket Size'\n",
    "df_sorted.loc[high_idx, 'Ticket Size'] = 'High Ticket Size'\n",
    "\n",
    "sum_low = df_sorted[df_sorted['Ticket Size'] == 'Low Ticket Size']['Amount Pending'].sum()\n",
    "sum_medium = df_sorted[df_sorted['Ticket Size'] == 'Medium Ticket Size']['Amount Pending'].sum()\n",
    "sum_high = df_sorted[df_sorted['Ticket Size'] == 'High Ticket Size']['Amount Pending'].sum()\n",
    "print(f\"Sum_Low: {sum_low}\\nSum_Medium: {sum_medium}\\nSum_High: {sum_high}\\n\")\n",
    "\n",
    "print(df_sorted.head())"
   ]
  },
  {
   "cell_type": "code",
   "execution_count": 14,
   "id": "3a42a00d",
   "metadata": {},
   "outputs": [
    {
     "name": "stdout",
     "output_type": "stream",
     "text": [
      "Low Ticket Size       12296\n",
      "Medium Ticket Size     7731\n",
      "High Ticket Size       4555\n",
      "Name: Ticket Size, dtype: int64\n"
     ]
    }
   ],
   "source": [
    "# Get the count for each type of ticket\n",
    "ticket_size = df_sorted['Ticket Size'].value_counts()\n",
    "labels_ordered = ['Low Ticket Size', 'Medium Ticket Size', 'High Ticket Size']\n",
    "ticket_size = ticket_size.reindex(labels_ordered)\n",
    "\n",
    "print(ticket_size)"
   ]
  },
  {
   "cell_type": "code",
   "execution_count": 15,
   "id": "14dcb490",
   "metadata": {},
   "outputs": [
    {
     "data": {
      "image/png": "[encoded data removed]",
      "text/plain": [
       "<Figure size 576x360 with 1 Axes>"
      ]
     },
     "metadata": {
      "needs_background": "light"
     },
     "output_type": "display_data"
    }
   ],
   "source": [
    "# Visualizing Count v/s Ticket Size\n",
    "plt.figure(figsize=(8, 5))\n",
    "colors = ['#FFFF00', '#31C6D4', '#FF1E1E']\n",
    "bars = []\n",
    "\n",
    "for i, label in enumerate(labels_ordered):\n",
    "    bar = plt.bar(label, ticket_size[label], color=colors[i])\n",
    "    bars.append(bar)\n",
    "    \n",
    "legend_labels = [f'{label}: {ticket_size[label]}' for label in labels_ordered]\n",
    "\n",
    "plt.title('TICKET SIZE COUNT')\n",
    "plt.xlabel('TICKET SIZE')\n",
    "plt.ylabel('COUNT')\n",
    "plt.xticks(rotation=45)\n",
    "plt.legend(bars, legend_labels)\n",
    "plt.tight_layout()\n",
    "plt.show()"
   ]
  },
  {
   "cell_type": "markdown",
   "id": "db30bcb1",
   "metadata": {},
   "source": [
    "---"
   ]
  },
  {
   "cell_type": "markdown",
   "id": "88eea19e",
   "metadata": {},
   "source": [
    "### Task 4: Analyse spend recommendation to reduce overall bounce\n",
    "\n",
    "**Digital Medium** - ₹5 per borrower\n",
    "\n",
    "    Customers with great repayment behavior\n",
    "    Customers with first EMIs\n",
    "    Customers who have low EMIs\n",
    "\n",
    "**Voice Bot Medium** - ₹10 per borrower\n",
    "\n",
    "    Customer who know Hindi or English - Metropolitan areas have high probability of english speakers\n",
    "    Customers who have had low bounce behaviour\n",
    "    Customers with low or medium sized EMIs\n",
    "\n",
    "**Telecalling** - ₹50 per borrower\n",
    "\n",
    "    Telecalling will work on all scenarios but is the costliest option\n",
    "\n",
    "Target: Segment the borrowers into these 3 channels of spend category and minimise the overall spend while maximise on time repayment."
   ]
  },
  {
   "cell_type": "markdown",
   "id": "e493b755",
   "metadata": {},
   "source": [
    "### Solution: Analyzing the previous solutions and recommending based on the given conditions\n",
    "\n",
    "1. **WhatsApp Bot Medium** - Customers with FEMI or low risk and low ticket size\n",
    "2. **Voice Bot Medium** - Customers in metro, low to medium risk and ticket size\n",
    "3. **Telecalling** - Everyone else.\n",
    "\n",
    "For Voice Bot Medium, I will first find out the states and their cities. From that, assumption is made that metro cities will be the capitals and major cities in the states apart from capitals."
   ]
  },
  {
   "cell_type": "code",
   "execution_count": 16,
   "id": "1f654d46",
   "metadata": {},
   "outputs": [
    {
     "name": "stdout",
     "output_type": "stream",
     "text": [
      "            State                                               City  \\\n",
      "0  Andhra Pradesh  Guntur, Cuddapah, Krishna, Chittoor, Prakasam,...   \n",
      "1       Karnataka  Bangalore, Hassan, Mysore, DAKSHINA KANNADA, B...   \n",
      "2          Kerala  Kollam, Kannur, Thrissur, Palakkad, Pathanamth...   \n",
      "3  Madhya Pradesh  Vidisha, Rewa, Damoh, Sidhi, Chhatarpur, Indor...   \n",
      "4     Maharashtra  Sindhudurg, Pune, Sangli, YAVATMAL, Jalgaon, A...   \n",
      "5      Tamil Nadu  NAGAPATTINAM, Tirunelveli, Madurai, TIRUVALLUR...   \n",
      "6       Telangana  Hyderabad, Mahabub Nagar, Nalgonda, Warangal, ...   \n",
      "\n",
      "   City Count  \n",
      "0          14  \n",
      "1          30  \n",
      "2          15  \n",
      "3          49  \n",
      "4          36  \n",
      "5          33  \n",
      "6          10  \n"
     ]
    }
   ],
   "source": [
    "# Grab the unique state and city values\n",
    "state_city_mapping = df.groupby('State')['City'].unique().reset_index()\n",
    "state_city_mapping['City'] = state_city_mapping['City'].apply(', '.join)\n",
    "state_city_mapping['City Count'] = df.groupby('State')['City'].nunique().reset_index()['City']\n",
    "print(state_city_mapping)"
   ]
  },
  {
   "cell_type": "code",
   "execution_count": 17,
   "id": "0e1980fe",
   "metadata": {},
   "outputs": [
    {
     "name": "stdout",
     "output_type": "stream",
     "text": [
      "186\n"
     ]
    }
   ],
   "source": [
    "print(df_sorted['City'].nunique())"
   ]
  },
  {
   "cell_type": "markdown",
   "id": "c6c606bb",
   "metadata": {},
   "source": [
    "#### Selecting cities for Voice Bot Medium\n",
    "1. State Capitals: **Amravati, Bangalore, Mumbai, Chennai, Hyderabad** (Excluded Bhopal and Thiruvananthapuram)\n",
    "2. All the cities of **Madhya Pradesh** since it is primarily a Hindi speaking state.\n",
    "3. All the cities of **Kerala** since it is the most literate state, i.e., most of them can be safely assumed to speak English.\n",
    "4. Big Cities: Cities which are culturally and economically important but are not the capitals of their respective states - \n",
    "\n",
    "a. Andhra Pradesh - Visakhapatnam, Pondicherry*\n",
    "\n",
    "b. Karnataka - Bangalore Rural, Mysore\n",
    "\n",
    "c. Maharashtra - Nagpur, Pune, Aurangabad, Thane, North Goa, South Goa\n",
    "\n",
    "d. Tamil Nadu - Madurai, Coimbatore, Vellore, Pondicherry*\n",
    "\n",
    "e. Telangana - Warangal\n",
    "\n",
    "#### Total Cities in consideration = 83"
   ]
  },
  {
   "cell_type": "markdown",
   "id": "ffbb5e2e",
   "metadata": {},
   "source": [
    "**However, since our aim is to reduce the costs, we will first focus maximizing digital medium and then try to maximize voice bot medium wherein again we will target risk and ticket size prior to targetting cities.**"
   ]
  },
  {
   "cell_type": "code",
   "execution_count": 18,
   "id": "17726fc6",
   "metadata": {},
   "outputs": [
    {
     "name": "stdout",
     "output_type": "stream",
     "text": [
      "83\n",
      "['ANUPPUR', 'ASHOK NAGAR', 'Alappuzha', 'Amravati', 'Aurangabad', 'BANGALORE RURAL', 'BARWANI', 'BURHANPUR', 'Balaghat', 'Bangalore', 'Betul', 'Bhind', 'Bhopal', 'Chennai', 'Chhatarpur', 'Chhindwara', 'Coimbatore', 'Damoh', 'Datia', 'Dewas', 'Dhar', 'East Nimar', 'Ernakulam', 'Guna', 'Gwalior', 'HARDA', 'Hoshangabad', 'Hyderabad', 'IDUKKI', 'Indore', 'Jabalpur', 'Jhabua', 'KASARGOD', 'KATNI', 'Kannur', 'Khandwa', 'Kollam', 'Kottayam', 'Kozhikode', 'MAHE', 'MALAPPURAM', 'Madurai', 'Mandla', 'Mandsaur', 'Morena', 'Mumbai', 'Mysore', 'NORTH GOA', 'Nagpur', 'Narsinghpur', 'Neemuch', 'Palakkad', 'Panna', 'Pathanamthitta', 'Pondicherry', 'Pune', 'Raisen', 'Rajgarh', 'Ratlam', 'Rewa', 'SHEOPUR', 'SOUTH GOA', 'Sagar', 'Satna', 'Sehore', 'Seoni', 'Shahdol', 'Shajapur', 'Shivpuri', 'Sidhi', 'Singrauli', 'Thane', 'Thiruvananthapuram', 'Thrissur', 'Tikamgarh', 'UMARIA', 'Ujjain', 'VELLORE', 'Vidisha', 'Visakhapatnam', 'Warangal', 'Wayanad', 'West Nimar']\n"
     ]
    }
   ],
   "source": [
    "voice_bot_cities = [\n",
    "    'Amravati', 'Bangalore', 'Mumbai', 'Chennai', 'Hyderabad', 'Visakhapatnam', 'Pondicherry', 'BANGALORE RURAL', 'Mysore', 'Nagpur', 'Pune', 'Aurangabad', 'Thane', 'NORTH GOA', 'SOUTH GOA', 'Madurai', 'Coimbatore', 'VELLORE', 'Warangal'\n",
    "]\n",
    "def update_voice_bot_cities(df_sorted):\n",
    "    # Extract unique cities from Madhya Pradesh and Kerala\n",
    "    mp_kerala_cities = df[df['State'].isin(['Madhya Pradesh', 'Kerala'])]['City'].unique().tolist()\n",
    "    \n",
    "    global voice_bot_cities\n",
    "    voice_bot_cities = list(set(voice_bot_cities + mp_kerala_cities))\n",
    "    \n",
    "    voice_bot_cities.sort()\n",
    "\n",
    "update_voice_bot_cities(df_sorted)\n",
    "\n",
    "print(len(voice_bot_cities))\n",
    "print(voice_bot_cities)"
   ]
  },
  {
   "cell_type": "code",
   "execution_count": 19,
   "id": "d2a56f63",
   "metadata": {},
   "outputs": [
    {
     "name": "stdout",
     "output_type": "stream",
     "text": [
      "      Amount Pending        State  Tenure  Interest Rate          City  \\\n",
      "1534             423  Maharashtra      11          11.84        Sangli   \n",
      "1982             444   Tamil Nadu      11          12.23  VIRUDHUNAGAR   \n",
      "889              451  Maharashtra       7          37.92          Pune   \n",
      "265              522    Karnataka      11          12.83      Bagalkot   \n",
      "1486             522  Maharashtra      11          12.83          Pune   \n",
      "\n",
      "     Bounce String  Disbursed Amount Loan Number    Risk Label  Tenure Label  \\\n",
      "1534          FEMI              4389       HEMS0  Unknown Risk  Early Tenure   \n",
      "1982          FEMI              4598       1BYJD  Unknown Risk  Early Tenure   \n",
      "889         LSSSSB              2793       7COLC     High Risk   Late Tenure   \n",
      "265           FEMI              5390       587TX  Unknown Risk  Early Tenure   \n",
      "1486             S              5390       5QJN0      Low Risk  Early Tenure   \n",
      "\n",
      "          Ticket Size Spend Category  \n",
      "1534  Low Ticket Size   WhatsApp Bot  \n",
      "1982  Low Ticket Size   WhatsApp Bot  \n",
      "889   Low Ticket Size   WhatsApp Bot  \n",
      "265   Low Ticket Size   WhatsApp Bot  \n",
      "1486  Low Ticket Size   WhatsApp Bot  \n"
     ]
    }
   ],
   "source": [
    "df_sorted['Spend Category'] = None\n",
    "\n",
    "# Calculating no. of rows for whatsApp bot medium:\n",
    "df_sorted.loc[(df_sorted['Bounce String'].str.startswith('F')) | (df_sorted['Ticket Size'] == 'Low Ticket Size') | (df_sorted['Risk Label'] == 'Low Risk'), 'Spend Category'] = 'WhatsApp Bot'\n",
    "\n",
    "# Calculating no.of rows for voice bot medium:\n",
    "df_sorted.loc[(df_sorted['Spend Category'].isnull()) & ((df_sorted['City'].isin(voice_bot_cities)) | (df_sorted['Risk Label'] == 'Medium Risk') | (df_sorted['Ticket Size'] == 'Medium Ticket Size')), 'Spend Category'] = 'Voice Bot'\n",
    "\n",
    "# Assigning remaining no. of rows for telecalling medium:\n",
    "df_sorted.loc[df_sorted['Spend Category'].isnull(), 'Spend Category'] = 'Telecalling'\n",
    "\n",
    "print(df_sorted.head())"
   ]
  },
  {
   "cell_type": "code",
   "execution_count": 20,
   "id": "70990232",
   "metadata": {},
   "outputs": [
    {
     "name": "stdout",
     "output_type": "stream",
     "text": [
      "WhatsApp Bot    20787\n",
      "Voice Bot        3424\n",
      "Telecalling       371\n",
      "Name: Spend Category, dtype: int64\n"
     ]
    }
   ],
   "source": [
    "# Get the count for each type of medium\n",
    "medium = df_sorted['Spend Category'].value_counts()\n",
    "labels_ordered = ['WhatsApp Bot', 'Voice Bot', 'Telecalling']\n",
    "medium = medium.reindex(labels_ordered)\n",
    "\n",
    "print(medium)"
   ]
  },
  {
   "cell_type": "code",
   "execution_count": 21,
   "id": "58cb11d7",
   "metadata": {},
   "outputs": [
    {
     "data": {
      "image/png": "[encoded data removed]",
      "text/plain": [
       "<Figure size 576x360 with 1 Axes>"
      ]
     },
     "metadata": {
      "needs_background": "light"
     },
     "output_type": "display_data"
    }
   ],
   "source": [
    "# Visualizing Count v/s Medium\n",
    "plt.figure(figsize=(8, 5))\n",
    "colors = ['#D6DAC8', '#FBF3D5', '#EFBC9B']\n",
    "bars = []\n",
    "\n",
    "for i, label in enumerate(labels_ordered):\n",
    "    bar = plt.bar(label, medium[label], color=colors[i])\n",
    "    bars.append(bar)\n",
    "    \n",
    "legend_labels = [f'{label}: {medium[label]}' for label in labels_ordered]\n",
    "\n",
    "plt.title('MEDIUM COUNT')\n",
    "plt.xlabel('MEDIUM VALUES')\n",
    "plt.ylabel('COUNT')\n",
    "plt.xticks(rotation=45)\n",
    "plt.legend(bars, legend_labels)\n",
    "plt.tight_layout()\n",
    "plt.show()"
   ]
  },
  {
   "cell_type": "code",
   "execution_count": 23,
   "id": "5860fe23",
   "metadata": {},
   "outputs": [
    {
     "name": "stdout",
     "output_type": "stream",
     "text": [
      "              Count  Adjusted Count\n",
      "WhatsApp Bot  20787          103935\n",
      "Voice Bot      3424           34240\n",
      "Telecalling     371           18550\n",
      "Total         24582          156725\n"
     ]
    }
   ],
   "source": [
    "# Get the total cost\n",
    "costs = {'WhatsApp Bot': 5, 'Voice Bot': 10, 'Telecalling': 50}\n",
    "adjusted_counts = medium * [costs[label] for label in labels_ordered]\n",
    "cost_table = pd.DataFrame({'Count': medium, 'Adjusted Count': adjusted_counts})\n",
    "\n",
    "total_count = cost_table['Count'].sum()\n",
    "total_adjusted_count = cost_table['Adjusted Count'].sum()\n",
    "cost_table.loc['Total'] = [total_count, total_adjusted_count]\n",
    "\n",
    "print(cost_table)"
   ]
  },
  {
   "cell_type": "markdown",
   "id": "d19053e5",
   "metadata": {},
   "source": [
    "#### Therefore, total cost incurred is ₹ 1,56,725"
   ]
  }
 ],
 "metadata": {
  "kernelspec": {
   "display_name": "Python 3 (ipykernel)",
   "language": "python",
   "name": "python3"
  },
  "language_info": {
   "codemirror_mode": {
    "name": "ipython",
    "version": 3
   },
   "file_extension": ".py",
   "mimetype": "text/x-python",
   "name": "python",
   "nbconvert_exporter": "python",
   "pygments_lexer": "ipython3",
   "version": "3.9.7"
  }
 },
 "nbformat": 4,
 "nbformat_minor": 5
}
